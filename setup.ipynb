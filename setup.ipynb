{
 "cells": [
  {
   "cell_type": "markdown",
   "id": "899ea9dc-9de9-42c1-b305-8e3465b5a013",
   "metadata": {},
   "source": [
    "### Data Job create, run, deploy"
   ]
  },
  {
   "cell_type": "code",
   "execution_count": null,
   "id": "45d26eda-8714-44af-a6c1-afc1d14ec250",
   "metadata": {},
   "outputs": [],
   "source": [
    "# Create data job and register it on the cloud\n",
    "!vdk create -n correlation-example-job -t amld -p /home/jovyan"
   ]
  },
  {
   "cell_type": "code",
   "execution_count": null,
   "id": "4c1745c3",
   "metadata": {},
   "outputs": [],
   "source": [
    "#!vdk properties -n correlation-example-job -t amld --delete-all-job-properties"
   ]
  },
  {
   "cell_type": "code",
   "execution_count": null,
   "id": "0267c9e3",
   "metadata": {},
   "outputs": [],
   "source": [
    "#!vdk trino-query -q \"drop table if exists weekly_correlation\"\n",
    "#!vdk trino-query -q \"drop table if exists yankee_candle_reviews_transformed\"\n",
    "#!vdk trino-query -q \"drop table if exists yankee_candle_reviews\"\n",
    "#!vdk trino-query -q \"drop table if exists covid_cases_usa_daily\""
   ]
  },
  {
   "cell_type": "code",
   "execution_count": null,
   "id": "04872491-772f-4fff-a372-d52b5a601a68",
   "metadata": {},
   "outputs": [],
   "source": [
    "# Run data job locally\n",
    "!vdk run correlation-example-job"
   ]
  },
  {
   "cell_type": "code",
   "execution_count": null,
   "id": "26e54f1b-4045-43a5-97ca-2dc5dcc3c8d1",
   "metadata": {},
   "outputs": [],
   "source": [
    "# Deploy data job on the cloud\n",
    "!vdk deploy -n correlation-example-job -r \"Initial deploy\" -p /home/jovyan/correlation-example-job"
   ]
  },
  {
   "cell_type": "code",
   "execution_count": null,
   "id": "f55a48f6-6c5e-4702-9fb3-492bf5643a54",
   "metadata": {},
   "outputs": [],
   "source": [
    "# Check status of latest deployment\n",
    "!vdk deploy --show -t amld -n correlation-example-job"
   ]
  },
  {
   "cell_type": "markdown",
   "id": "55662a68-0320-4804-a1b5-280fe06023d3",
   "metadata": {},
   "source": [
    "### Query Trino DB"
   ]
  },
  {
   "cell_type": "code",
   "execution_count": null,
   "id": "5d249fd2-c75c-46bb-ad3f-b56ab83694ae",
   "metadata": {},
   "outputs": [],
   "source": [
    "# Additional config for engines that do not support autommit\n",
    "%config SqlMagic.autocommit=False "
   ]
  },
  {
   "cell_type": "code",
   "execution_count": null,
   "id": "c5a4f3b2-ecef-47f6-8d00-7abe785f19f1",
   "metadata": {},
   "outputs": [],
   "source": [
    "%load_ext sql"
   ]
  },
  {
   "cell_type": "code",
   "execution_count": null,
   "id": "8bf8f1bd-4745-4bd2-8ff1-65e6dbb60356",
   "metadata": {},
   "outputs": [],
   "source": [
    "%sql select * from mysql.default.covid_cases_usa_daily"
   ]
  },
  {
   "cell_type": "markdown",
   "id": "fef6b35b-f5d4-4439-98b1-da61eb899cf2",
   "metadata": {},
   "source": [
    "### Run Streamlit dashboard"
   ]
  },
  {
   "cell_type": "markdown",
   "id": "ab514a8d-1451-4c94-b68c-69d0c5a80358",
   "metadata": {},
   "source": [
    "The first cell outputs a link that can be opened only after you run the second cell."
   ]
  },
  {
   "cell_type": "code",
   "execution_count": null,
   "id": "82aca18f-8df3-4089-ad4d-ecc69851b02e",
   "metadata": {},
   "outputs": [],
   "source": [
    "# Output the necessary link - one of the two links links will open up the Streamlit app, the other will show a '403: Forbidden' message\n",
    "# If none of these work, copy 'proxy/8501/' and replace the 'lab/tree/setup.ipynb' part of the browser URL with it\n",
    "import os\n",
    "print(\"Open streamlit (in a new tab) at this link:\")\n",
    "print(\"https://hub.gke2.mybinder.org/user/\" + os.environ.get(\"JUPYTERHUB_USER\") + \"/proxy/8501/\")\n",
    "print(\"https://notebooks.gesis.org/binder/jupyter/user/\" + os.environ.get(\"JUPYTERHUB_USER\") + \"/proxy/8501/\")\n",
    "print(\"https://hub.mybinder.turing.ac.uk/user/\" + os.environ.get(\"JUPYTERHUB_USER\") + \"/proxy/8501/\")"
   ]
  },
  {
   "cell_type": "code",
   "execution_count": null,
   "id": "e00990e9-4d41-4abe-8765-63844534031f",
   "metadata": {},
   "outputs": [],
   "source": [
    "# Activate the Streamlit app. To view the dashboard, open the link produced by the above cell.\n",
    "!streamlit run build_streamlit_dashboard.py"
   ]
  },
  {
   "cell_type": "markdown",
   "id": "38775ae9-7ee0-4032-9683-7ed6d07b3698",
   "metadata": {},
   "source": [
    "To kill the Streamlit app and continue working, you need to click \"Interrupt the Kernel\"."
   ]
  }
 ],
 "metadata": {
  "kernelspec": {
   "display_name": "Python 3",
   "language": "python",
   "name": "python3"
  },
  "language_info": {
   "codemirror_mode": {
    "name": "ipython",
    "version": 3
   },
   "file_extension": ".py",
   "mimetype": "text/x-python",
   "name": "python",
   "nbconvert_exporter": "python",
   "pygments_lexer": "ipython3",
   "version": "3.8.8"
  }
 },
 "nbformat": 4,
 "nbformat_minor": 5
}
